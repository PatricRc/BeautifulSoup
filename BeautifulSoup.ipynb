{
  "nbformat": 4,
  "nbformat_minor": 0,
  "metadata": {
    "colab": {
      "name": "BeautifulSoup.ipynb",
      "provenance": [],
      "authorship_tag": "ABX9TyMHnPp6bbgNvcK21beCsCnO",
      "include_colab_link": true
    },
    "kernelspec": {
      "name": "python3",
      "display_name": "Python 3"
    },
    "language_info": {
      "name": "python"
    }
  },
  "cells": [
    {
      "cell_type": "markdown",
      "metadata": {
        "id": "view-in-github",
        "colab_type": "text"
      },
      "source": [
        "<a href=\"https://colab.research.google.com/github/PatricRc/BeautifulSoup/blob/main/BeautifulSoup.ipynb\" target=\"_parent\"><img src=\"https://colab.research.google.com/assets/colab-badge.svg\" alt=\"Open In Colab\"/></a>"
      ]
    },
    {
      "cell_type": "markdown",
      "metadata": {
        "id": "LUCgtkc0ej1M"
      },
      "source": [
        "## Importando bibliotecas"
      ]
    },
    {
      "cell_type": "code",
      "metadata": {
        "id": "lnbeEzwl0aq3"
      },
      "source": [
        "from urllib.request import Request, urlopen\n",
        "from urllib.error import URLError, HTTPError\n",
        "\n",
        "url = 'https://alura-site-scraping.herokuapp.com/hello-world.php'\n",
        "headers = {'User-Agent' : 'Mozilla/5.0 (X11; CrOS x86_64 14092.77.0) AppleWebKit/537.36 (KHTML, like Gecko) Chrome/93.0.4577.107 Safari/537.36'}\n",
        "\n",
        "## Tratamiento de errores\n",
        "\n",
        "try: \n",
        "    req = Request(url, headers=headers)\n",
        "    response = urlopen(req)\n",
        "    print(response.read())\n",
        "\n",
        "except HTTPError as e:\n",
        "    print(e.status, e.reason)\n",
        "\n",
        "except URLError as e:\n",
        "    print(e.reason)"
      ],
      "execution_count": null,
      "outputs": []
    },
    {
      "cell_type": "markdown",
      "metadata": {
        "id": "EZ4FwyJu8-bn"
      },
      "source": [
        "## Tratamiento de Strings"
      ]
    },
    {
      "cell_type": "code",
      "metadata": {
        "id": "669Ygz3Z5sSS"
      },
      "source": [
        "from urllib.request import urlopen\n",
        "\n",
        "url = 'https://alura-site-scraping.herokuapp.com/index.php'\n",
        "\n",
        "response = urlopen(url)\n",
        "html = response.read()\n",
        "html"
      ],
      "execution_count": null,
      "outputs": []
    },
    {
      "cell_type": "markdown",
      "metadata": {
        "id": "WvbvAcxc9YFf"
      },
      "source": [
        "Convirtiendo tipo bytes para strings"
      ]
    },
    {
      "cell_type": "code",
      "metadata": {
        "id": "O_94yHhA5s71"
      },
      "source": [
        "type(html)"
      ],
      "execution_count": null,
      "outputs": []
    },
    {
      "cell_type": "code",
      "metadata": {
        "id": "zGb_OOwm9eLu"
      },
      "source": [
        "html = html.decode('utf-8')"
      ],
      "execution_count": null,
      "outputs": []
    },
    {
      "cell_type": "code",
      "metadata": {
        "id": "0LPRoizs9ePl"
      },
      "source": [
        "type(html)"
      ],
      "execution_count": null,
      "outputs": []
    },
    {
      "cell_type": "code",
      "metadata": {
        "id": "8A1V5kcd9eTE"
      },
      "source": [
        "html"
      ],
      "execution_count": null,
      "outputs": []
    },
    {
      "cell_type": "markdown",
      "metadata": {
        "id": "U5gG_SZq9_Az"
      },
      "source": [
        "Eliminar caracteres de tabulacion, lineas rotas, etc."
      ]
    },
    {
      "cell_type": "code",
      "metadata": {
        "id": "jtmfS6JU9eWG"
      },
      "source": [
        "html.split()"
      ],
      "execution_count": null,
      "outputs": []
    },
    {
      "cell_type": "code",
      "metadata": {
        "id": "X6HUI9Dn-HjO"
      },
      "source": [
        "\" \".join(html.split())"
      ],
      "execution_count": null,
      "outputs": []
    },
    {
      "cell_type": "code",
      "metadata": {
        "id": "ltAaQK0n-hpP"
      },
      "source": [
        "html"
      ],
      "execution_count": null,
      "outputs": []
    },
    {
      "cell_type": "markdown",
      "metadata": {
        "id": "RfuUHFXjM31D"
      },
      "source": [
        "## Accesando a BeaufitulSoup\n",
        "\n",
        "creando objeto en BeaufitulSoup"
      ]
    },
    {
      "cell_type": "code",
      "metadata": {
        "id": "ckLsIOP8v2t0"
      },
      "source": [
        "from bs4 import BeautifulSoup"
      ],
      "execution_count": null,
      "outputs": []
    },
    {
      "cell_type": "code",
      "metadata": {
        "id": "6W93w8W2Maa5"
      },
      "source": [
        "soup = BeautifulSoup(html, 'html.parser')\n",
        "print(soup.prettify())"
      ],
      "execution_count": null,
      "outputs": []
    },
    {
      "cell_type": "markdown",
      "metadata": {
        "id": "PN8oC1cSvzD8"
      },
      "source": [
        "## Accesando a un tag"
      ]
    },
    {
      "cell_type": "code",
      "metadata": {
        "id": "5PhaghClM9--"
      },
      "source": [
        "soup.html"
      ],
      "execution_count": null,
      "outputs": []
    },
    {
      "cell_type": "code",
      "metadata": {
        "id": "ZzaMxkPINTi8"
      },
      "source": [
        "soup.html.title"
      ],
      "execution_count": null,
      "outputs": []
    },
    {
      "cell_type": "code",
      "metadata": {
        "id": "8IQsRv7-NTfJ"
      },
      "source": [
        "soup.div"
      ],
      "execution_count": null,
      "outputs": []
    },
    {
      "cell_type": "code",
      "metadata": {
        "id": "TORdG_tfNTZw"
      },
      "source": [
        "soup.div.div.div.div.h5"
      ],
      "execution_count": null,
      "outputs": []
    },
    {
      "cell_type": "code",
      "metadata": {
        "id": "XrrzsLVrNTXF"
      },
      "source": [
        "soup.title.get_text()"
      ],
      "execution_count": null,
      "outputs": []
    },
    {
      "cell_type": "code",
      "metadata": {
        "id": "-6XalhePOdG0"
      },
      "source": [
        "soup.h5.getText()"
      ],
      "execution_count": null,
      "outputs": []
    },
    {
      "cell_type": "code",
      "metadata": {
        "id": "3LGgbBwqOskk"
      },
      "source": [
        "soup.get_text()"
      ],
      "execution_count": null,
      "outputs": []
    },
    {
      "cell_type": "markdown",
      "metadata": {
        "id": "vzgkyMB7OATu"
      },
      "source": [
        "## Accesando atributos en un tag"
      ]
    },
    {
      "cell_type": "code",
      "metadata": {
        "id": "gcbuUmavPwPw"
      },
      "source": [
        "soup.img"
      ],
      "execution_count": null,
      "outputs": []
    },
    {
      "cell_type": "code",
      "metadata": {
        "id": "OsaSDPB0PwMQ"
      },
      "source": [
        "soup.img.attrs"
      ],
      "execution_count": null,
      "outputs": []
    },
    {
      "cell_type": "code",
      "metadata": {
        "id": "u8rfEepzPwIp"
      },
      "source": [
        "soup.img.attrs.keys()"
      ],
      "execution_count": null,
      "outputs": []
    },
    {
      "cell_type": "code",
      "metadata": {
        "id": "hPwyZPGWPwFt"
      },
      "source": [
        "soup.img.attrs.values()"
      ],
      "execution_count": null,
      "outputs": []
    },
    {
      "cell_type": "code",
      "metadata": {
        "id": "W4WkFF9tPwB-"
      },
      "source": [
        "soup.img['class']"
      ],
      "execution_count": null,
      "outputs": []
    },
    {
      "cell_type": "code",
      "metadata": {
        "id": "ujcdXiF7Qe9m"
      },
      "source": [
        "soup.img.get('src')"
      ],
      "execution_count": null,
      "outputs": []
    },
    {
      "cell_type": "markdown",
      "metadata": {
        "id": "xAduNyWXKuQD"
      },
      "source": [
        "## FindAll"
      ]
    },
    {
      "cell_type": "code",
      "metadata": {
        "id": "gh3BFhk4KwHE"
      },
      "source": [
        "soup.findAll('img', limit = 1)[0]"
      ],
      "execution_count": null,
      "outputs": []
    },
    {
      "cell_type": "markdown",
      "metadata": {
        "id": "HCXb9ytILIPv"
      },
      "source": [
        "Atajo para metodo findAll"
      ]
    },
    {
      "cell_type": "code",
      "metadata": {
        "id": "nYYHdFGeK4WB"
      },
      "source": [
        "soup('img')"
      ],
      "execution_count": null,
      "outputs": []
    },
    {
      "cell_type": "markdown",
      "metadata": {
        "id": "8KH5wHDDLNM0"
      },
      "source": [
        "##Pasando listas de tags"
      ]
    },
    {
      "cell_type": "code",
      "metadata": {
        "id": "AMTIkOnwLQ6S"
      },
      "source": [
        "soup.findAll(['h1','h2','h3','h4','h5','h6'])"
      ],
      "execution_count": null,
      "outputs": []
    },
    {
      "cell_type": "code",
      "metadata": {
        "id": "2kwXG2JmLo-e"
      },
      "source": [
        "soup.findAll('p', {\"class\": \"txt-value\"})"
      ],
      "execution_count": null,
      "outputs": []
    },
    {
      "cell_type": "code",
      "metadata": {
        "id": "JVdxLhGFMYXc"
      },
      "source": [
        "soup.findAll('p', text = \"Belo Horizonte - MG\")"
      ],
      "execution_count": null,
      "outputs": []
    },
    {
      "cell_type": "code",
      "metadata": {
        "id": "vhEm6iMFM-Pl"
      },
      "source": [
        "soup.findAll('img', alt = \"Foto\")"
      ],
      "execution_count": null,
      "outputs": []
    },
    {
      "cell_type": "code",
      "metadata": {
        "id": "qkXRA0RqNxgz"
      },
      "source": [
        "for item in soup.findAll('img', alt = \"Foto\"):\n",
        "  print(item.get('src'))"
      ],
      "execution_count": null,
      "outputs": []
    },
    {
      "cell_type": "markdown",
      "metadata": {
        "id": "3LQ8veIuOpx-"
      },
      "source": [
        "***Cuidado con el atributo class***\n",
        "\n",
        "Tener en cuenta la sintaxis de class_"
      ]
    },
    {
      "cell_type": "code",
      "metadata": {
        "id": "ELQCvERaOgNm"
      },
      "source": [
        "soup.findAll('p', class_=\"txt-value\")"
      ],
      "execution_count": null,
      "outputs": []
    },
    {
      "cell_type": "code",
      "metadata": {
        "id": "efO0cwwMO48i"
      },
      "source": [
        "soup.findAll(text = True)"
      ],
      "execution_count": null,
      "outputs": []
    },
    {
      "cell_type": "markdown",
      "metadata": {
        "id": "iuGRFah7R-TK"
      },
      "source": [
        "## identificando y seleccionando datos en HTML"
      ]
    },
    {
      "cell_type": "code",
      "metadata": {
        "id": "A2hzV2KpY41g"
      },
      "source": [
        "response = urlopen('https://alura-site-scraping.herokuapp.com/index.php')\n",
        "html = response.read().decode('utf-8')\n",
        "soup = BeautifulSoup(html, 'html.parser')\n",
        "soup"
      ],
      "execution_count": null,
      "outputs": []
    },
    {
      "cell_type": "code",
      "metadata": {
        "id": "IvhqkoO8Y-Vg"
      },
      "source": [
        "cards = []\n",
        "## crear un diccionario\n",
        "card = {}"
      ],
      "execution_count": null,
      "outputs": []
    },
    {
      "cell_type": "markdown",
      "metadata": {
        "id": "bZYwH8VSaQfc"
      },
      "source": [
        "Obtener los datos del primer card"
      ]
    },
    {
      "cell_type": "code",
      "metadata": {
        "id": "XQKwJmcTaTZv"
      },
      "source": [
        "anuncio = soup.find('div', {'class': 'well card'})\n",
        "anuncio"
      ],
      "execution_count": null,
      "outputs": []
    },
    {
      "cell_type": "markdown",
      "metadata": {
        "id": "S3eKngx9c4uY"
      },
      "source": [
        "## Codigo Resumen"
      ]
    },
    {
      "cell_type": "code",
      "metadata": {
        "id": "wBJQ0UoVc6sC"
      },
      "source": [
        "card['value'] = anuncio.find('p', {'class':'txt-value'}).getText()\n",
        "card['value']"
      ],
      "execution_count": null,
      "outputs": []
    },
    {
      "cell_type": "code",
      "metadata": {
        "id": "JzX2eVQudYxt"
      },
      "source": [
        "anuncio.find('div', {'class':'body-card'}).findAll('p')"
      ],
      "execution_count": null,
      "outputs": []
    },
    {
      "cell_type": "code",
      "metadata": {
        "id": "NXP7ktDDe5mG"
      },
      "source": [
        "infos = anuncio.find('div', {'class':'body-card'}).findAll('p')"
      ],
      "execution_count": null,
      "outputs": []
    },
    {
      "cell_type": "code",
      "metadata": {
        "id": "UInpJZnXfIFN"
      },
      "source": [
        "for info in infos:\n",
        "  print(info.get('class'), ' - ', info.getText())"
      ],
      "execution_count": null,
      "outputs": []
    },
    {
      "cell_type": "code",
      "metadata": {
        "id": "txkZqvWhfJyN"
      },
      "source": [
        "for info in infos:\n",
        "  card[info.get('class')[0].split('-')[-1]] = info.get_text()\n",
        "card"
      ],
      "execution_count": null,
      "outputs": []
    },
    {
      "cell_type": "code",
      "metadata": {
        "id": "Q8pReSN0nPWn"
      },
      "source": [
        "items"
      ],
      "execution_count": null,
      "outputs": []
    },
    {
      "cell_type": "code",
      "metadata": {
        "id": "oR_rTPEJlWDd"
      },
      "source": [
        "items = anuncio.find('div', {'class': 'body-card'}).ul.findAll('li')\n",
        "items.pop()\n",
        "accesorios = []\n",
        "for item in items:\n",
        "  accesorios.append(item.getText().replace('► ', ''))\n",
        "card['items'] = accesorios\n",
        "card['items']"
      ],
      "execution_count": null,
      "outputs": []
    },
    {
      "cell_type": "code",
      "metadata": {
        "id": "JTLX1oE4nUeA"
      },
      "source": [
        "card"
      ],
      "execution_count": null,
      "outputs": []
    },
    {
      "cell_type": "markdown",
      "metadata": {
        "id": "FmiAQhQWnkm-"
      },
      "source": [
        "## Creando un DataFrame con los datos de la pagina web"
      ]
    },
    {
      "cell_type": "code",
      "metadata": {
        "id": "_stFjJ87njOY"
      },
      "source": [
        "import pandas as pd\n",
        "df = pd.DataFrame.from_dict(card, orient= 'index').T\n",
        "df"
      ],
      "execution_count": null,
      "outputs": []
    },
    {
      "cell_type": "markdown",
      "metadata": {
        "id": "L4zYEaS-pjmH"
      },
      "source": [
        "##Exportar dataframe como archivo csv"
      ]
    },
    {
      "cell_type": "code",
      "metadata": {
        "id": "06z2eybKpoNJ"
      },
      "source": [
        "df.to_csv('./Downloads/df.csv', sep=';', index= False, encoding= 'utf-8-sig')"
      ],
      "execution_count": null,
      "outputs": []
    },
    {
      "cell_type": "markdown",
      "metadata": {
        "id": "XjZbCAKxqkqo"
      },
      "source": [
        "##Obtener imagen "
      ]
    },
    {
      "cell_type": "code",
      "metadata": {
        "id": "VhV7i3mmqlR2"
      },
      "source": [
        "image = anuncio.find('div', {'class': 'image-card'}).img\n",
        "image"
      ],
      "execution_count": null,
      "outputs": []
    },
    {
      "cell_type": "code",
      "metadata": {
        "id": "tyrgzRNEsQ4D"
      },
      "source": [
        "url = image.get('src')"
      ],
      "execution_count": null,
      "outputs": []
    },
    {
      "cell_type": "code",
      "metadata": {
        "id": "ysk_zT90sVQA"
      },
      "source": [
        "print(url)"
      ],
      "execution_count": null,
      "outputs": []
    },
    {
      "cell_type": "code",
      "metadata": {
        "id": "64NRZugssfkJ"
      },
      "source": [
        "card['URL'] = url\n",
        "card"
      ],
      "execution_count": null,
      "outputs": []
    },
    {
      "cell_type": "markdown",
      "metadata": {
        "id": "20d2p9ZZu5Eq"
      },
      "source": [
        ""
      ]
    },
    {
      "cell_type": "code",
      "metadata": {
        "id": "XViluEgPu54_"
      },
      "source": [
        "len(soup.find('div', {\"id\": \"container-cards\"}).findAll('div', class_=\"card\"))"
      ],
      "execution_count": null,
      "outputs": []
    },
    {
      "cell_type": "code",
      "metadata": {
        "id": "hnaNOD1kvgdk"
      },
      "source": [
        "anuncios = soup.find('div', {\"id\": \"container-cards\"}).findAll('div', class_=\"card\")"
      ],
      "execution_count": null,
      "outputs": []
    },
    {
      "cell_type": "code",
      "metadata": {
        "id": "0JvLCoS9vmYp"
      },
      "source": [
        "for anuncio in anuncios:\n",
        "  print(str(anuncio) + \"\\n\\n\")"
      ],
      "execution_count": null,
      "outputs": []
    },
    {
      "cell_type": "markdown",
      "metadata": {
        "id": "JPRgTqoqxsFV"
      },
      "source": [
        ""
      ]
    },
    {
      "cell_type": "code",
      "metadata": {
        "id": "VtJuM3khxs0U"
      },
      "source": [
        "# Importando bibliotecas\n",
        "from urllib.request import urlopen, urlretrieve\n",
        "from bs4 import BeautifulSoup\n",
        "import pandas as pd\n",
        "\n",
        "# Declarando variável cards\n",
        "cards = []\n",
        "\n",
        "# Obtendo o HTML\n",
        "response = urlopen('https://alura-site-scraping.herokuapp.com/index.php')\n",
        "html = response.read().decode('utf-8')\n",
        "soup = BeautifulSoup(html, 'html.parser')\n",
        "\n",
        "# Obtendo as TAGs de interesse\n",
        "anuncios = soup.find('div', {\"id\": \"container-cards\"}).findAll('div', class_=\"card\")\n",
        "\n",
        "# Coletando as informações dos CARDS\n",
        "for anuncio in anuncios:\n",
        "    card = {}\n",
        "\n",
        "    # Valor\n",
        "    card['value'] = anuncio.find('p', {'class': 'txt-value'}).getText()\n",
        "\n",
        "    # Informações\n",
        "    infos = anuncio.find('div', {'class': 'body-card'}).findAll('p')\n",
        "    for info in infos:\n",
        "        card[info.get('class')[0].split('-')[-1]] = info.get_text()\n",
        "\n",
        "    # Acessórios\n",
        "    items = anuncio.find('div', {'class': 'body-card'}).ul.findAll('li')\n",
        "    items.pop()\n",
        "    acessorios = []\n",
        "    for item in items:\n",
        "        acessorios.append(item.get_text().replace('► ', ''))\n",
        "    card['items'] = acessorios\n",
        "\n",
        "    # Imagens\n",
        "    image = anuncio.find('div', {'class': 'image-card'}).img"
      ],
      "execution_count": null,
      "outputs": []
    },
    {
      "cell_type": "code",
      "metadata": {
        "id": "MF-rqxnOyDyQ"
      },
      "source": [
        "# Coletando as informações dos CARDS\n",
        "for anuncio in anuncios:\n",
        "    card = {}\n",
        "\n",
        "    # Valor\n",
        "    card['value'] = anuncio.find('p', {'class': 'txt-value'}).getText()\n",
        "\n",
        "    # Informações\n",
        "    infos = anuncio.find('div', {'class': 'body-card'}).findAll('p')\n",
        "    for info in infos:\n",
        "        card[info.get('class')[0].split('-')[-1]] = info.get_text()\n",
        "\n",
        "    # Acessórios\n",
        "    items = anuncio.find('div', {'class': 'body-card'}).ul.findAll('li')\n",
        "    items.pop()\n",
        "    acessorios = []\n",
        "    for item in items:\n",
        "        acessorios.append(item.get_text().replace('► ', ''))\n",
        "    url = image.get('src')\n",
        "    card['items'] = url\n",
        "\n",
        "    # Adicionando resultado a lista cards\n",
        "    cards.append(card)\n",
        "\n",
        "    # Imagens\n",
        "    image = anuncio.find('div', {'class': 'image-card'}).img"
      ],
      "execution_count": null,
      "outputs": []
    },
    {
      "cell_type": "code",
      "metadata": {
        "id": "8nlohPl-yN1g"
      },
      "source": [
        "# Criando um DataFrame com os resultados\n",
        "dataset = pd.DataFrame(cards)\n",
        "dataset"
      ],
      "execution_count": null,
      "outputs": []
    },
    {
      "cell_type": "markdown",
      "metadata": {
        "id": "fJg4lViPXjk6"
      },
      "source": [
        "## Accesando a todos los datos dentro de la pagina (incluir diferentes paginas)"
      ]
    },
    {
      "cell_type": "markdown",
      "metadata": {
        "id": "osTHMEVjMlnY"
      },
      "source": [
        "Obtener el total de paginas con datos"
      ]
    },
    {
      "cell_type": "code",
      "metadata": {
        "id": "9rbnAnxBXoQA"
      },
      "source": [
        "paginas = int(soup.find('span', class_= \"info-pages\").getText().split()[-1])\n",
        "paginas"
      ],
      "execution_count": null,
      "outputs": []
    },
    {
      "cell_type": "markdown",
      "metadata": {
        "id": "eJcqMVxTOEIl"
      },
      "source": [
        "Obteniendo todos los datos de todas las paginas"
      ]
    },
    {
      "cell_type": "code",
      "metadata": {
        "id": "LEhTuosAOG1S",
        "colab": {
          "base_uri": "https://localhost:8080/",
          "height": 750
        },
        "outputId": "afafc40f-39d9-42fe-9e33-bc2d5976a597"
      },
      "source": [
        "# Importando bibliotecas\n",
        "from urllib.request import urlopen, urlretrieve\n",
        "from bs4 import BeautifulSoup\n",
        "import pandas as pd\n",
        "\n",
        "# Declarando variável cards\n",
        "cards = []\n",
        "\n",
        "## Obtendo o HTML e o total de páginas\n",
        "response = urlopen('https://alura-site-scraping.herokuapp.com/index.php')\n",
        "html = response.read().decode('utf-8')\n",
        "soup = BeautifulSoup(html, 'html.parser')\n",
        "paginas = int(soup.find('span', class_= \"info-pages\").getText().split()[-1])\n",
        "## Iterando por todas as páginas do site\n",
        "for i in range(paginas):\n",
        "  ## Obtendo o HTML\n",
        "  response = urlopen('https://alura-site-scraping.herokuapp.com/index.php?page=' + str(i + 1))\n",
        "  html = response.read().decode('utf-8')\n",
        "  soup = BeautifulSoup(html, 'html.parser')\n",
        "\n",
        "  # Obtendo as TAGs de interesse\n",
        "  anuncios = soup.find('div', {\"id\": \"container-cards\"}).findAll('div', class_=\"card\")\n",
        "\n",
        "  # Coletando as informações dos CARDS\n",
        "  for anuncio in anuncios:\n",
        "      card = {}\n",
        "\n",
        "      # Valor\n",
        "      card['value'] = anuncio.find('p', {'class': 'txt-value'}).getText()\n",
        "\n",
        "      # Informações\n",
        "      infos = anuncio.find('div', {'class': 'body-card'}).findAll('p')\n",
        "      for info in infos:\n",
        "              card[info.get('class')[0].split('-')[-1]] = info.get_text()\n",
        "\n",
        "      # Acessórios\n",
        "      items = anuncio.find('div', {'class': 'body-card'}).ul.findAll('li')\n",
        "      items.pop()\n",
        "      acessorios = []\n",
        "      for item in items:\n",
        "          acessorios.append(item.get_text().replace('► ', ''))\n",
        "      card['items'] = items\n",
        "      \n",
        "\n",
        "      # Adicionando resultado a lista cards\n",
        "      cards.append(card)\n",
        "\n",
        "      # Imagens\n",
        "      url = image.get('src')\n",
        "      card['image'] = url\n",
        "      images = anuncio.find('div', {'class': 'image-card'}).img      \n",
        "\n",
        "# Criando um DataFrame com os resultados\n",
        "dataset = pd.DataFrame(cards)\n",
        "dataset"
      ],
      "execution_count": null,
      "outputs": [
        {
          "output_type": "execute_result",
          "data": {
            "text/html": [
              "<div>\n",
              "<style scoped>\n",
              "    .dataframe tbody tr th:only-of-type {\n",
              "        vertical-align: middle;\n",
              "    }\n",
              "\n",
              "    .dataframe tbody tr th {\n",
              "        vertical-align: top;\n",
              "    }\n",
              "\n",
              "    .dataframe thead th {\n",
              "        text-align: right;\n",
              "    }\n",
              "</style>\n",
              "<table border=\"1\" class=\"dataframe\">\n",
              "  <thead>\n",
              "    <tr style=\"text-align: right;\">\n",
              "      <th></th>\n",
              "      <th>value</th>\n",
              "      <th>name</th>\n",
              "      <th>category</th>\n",
              "      <th>motor</th>\n",
              "      <th>description</th>\n",
              "      <th>location</th>\n",
              "      <th>items</th>\n",
              "      <th>image</th>\n",
              "      <th>opportunity</th>\n",
              "    </tr>\n",
              "  </thead>\n",
              "  <tbody>\n",
              "    <tr>\n",
              "      <th>0</th>\n",
              "      <td>R$ 338.000</td>\n",
              "      <td>LAMBORGHINI AVENTADOR</td>\n",
              "      <td>USADO</td>\n",
              "      <td>Motor 1.8 16v</td>\n",
              "      <td>Ano 1993 - 55.286 km</td>\n",
              "      <td>Belo Horizonte - MG</td>\n",
              "      <td>[[► 4 X 4], [► Câmera de estacionamento], [► C...</td>\n",
              "      <td>https://caelum-online-public.s3.amazonaws.com/...</td>\n",
              "      <td>NaN</td>\n",
              "    </tr>\n",
              "    <tr>\n",
              "      <th>1</th>\n",
              "      <td>R$ 346.000</td>\n",
              "      <td>BMW M2</td>\n",
              "      <td>USADO</td>\n",
              "      <td>Motor 3.0 32v</td>\n",
              "      <td>Ano 2018 - 83.447 km</td>\n",
              "      <td>Belo Horizonte - MG</td>\n",
              "      <td>[[► Câmera de estacionamento], [► Controle de ...</td>\n",
              "      <td>https://caelum-online-public.s3.amazonaws.com/...</td>\n",
              "      <td>NaN</td>\n",
              "    </tr>\n",
              "    <tr>\n",
              "      <th>2</th>\n",
              "      <td>R$ 480.000</td>\n",
              "      <td>ALFA</td>\n",
              "      <td>USADO</td>\n",
              "      <td>Motor 1.8 16v</td>\n",
              "      <td>Ano 2004 - 19.722 km</td>\n",
              "      <td>Rio de Janeiro - RJ</td>\n",
              "      <td>[[► Central multimídia], [► Bancos de couro], ...</td>\n",
              "      <td>https://caelum-online-public.s3.amazonaws.com/...</td>\n",
              "      <td>NaN</td>\n",
              "    </tr>\n",
              "    <tr>\n",
              "      <th>3</th>\n",
              "      <td>R$ 133.000</td>\n",
              "      <td>PUECH</td>\n",
              "      <td>USADO</td>\n",
              "      <td>Motor Diesel V8</td>\n",
              "      <td>Ano 1992 - 34.335 km</td>\n",
              "      <td>São Paulo - SP</td>\n",
              "      <td>[[► Bancos de couro], [► Freios ABS], [► Rodas...</td>\n",
              "      <td>https://caelum-online-public.s3.amazonaws.com/...</td>\n",
              "      <td>NaN</td>\n",
              "    </tr>\n",
              "    <tr>\n",
              "      <th>4</th>\n",
              "      <td>R$ 175.000</td>\n",
              "      <td>LAMBORGHINI MURCIELAGO</td>\n",
              "      <td>USADO</td>\n",
              "      <td>Motor 1.0 8v</td>\n",
              "      <td>Ano 1991 - 464 km</td>\n",
              "      <td>Belo Horizonte - MG</td>\n",
              "      <td>[[► Central multimídia], [► Teto panorâmico], ...</td>\n",
              "      <td>https://caelum-online-public.s3.amazonaws.com/...</td>\n",
              "      <td>NaN</td>\n",
              "    </tr>\n",
              "    <tr>\n",
              "      <th>...</th>\n",
              "      <td>...</td>\n",
              "      <td>...</td>\n",
              "      <td>...</td>\n",
              "      <td>...</td>\n",
              "      <td>...</td>\n",
              "      <td>...</td>\n",
              "      <td>...</td>\n",
              "      <td>...</td>\n",
              "      <td>...</td>\n",
              "    </tr>\n",
              "    <tr>\n",
              "      <th>241</th>\n",
              "      <td>R$ 489.000</td>\n",
              "      <td>SUV REAR TIRE</td>\n",
              "      <td>USADO</td>\n",
              "      <td>Motor 3.0 32v</td>\n",
              "      <td>Ano 1998 - 74.292 km</td>\n",
              "      <td>São Paulo - SP</td>\n",
              "      <td>[[► Câmera de estacionamento], [► Rodas de lig...</td>\n",
              "      <td>https://caelum-online-public.s3.amazonaws.com/...</td>\n",
              "      <td>NaN</td>\n",
              "    </tr>\n",
              "    <tr>\n",
              "      <th>242</th>\n",
              "      <td>R$ 427.000</td>\n",
              "      <td>ANTIQUE</td>\n",
              "      <td>NOVO</td>\n",
              "      <td>Motor 2.0 16v</td>\n",
              "      <td>Ano 2019 - 0 km</td>\n",
              "      <td>Belo Horizonte - MG</td>\n",
              "      <td>[[► Bancos de couro], [► Freios ABS], [► Senso...</td>\n",
              "      <td>https://caelum-online-public.s3.amazonaws.com/...</td>\n",
              "      <td>NaN</td>\n",
              "    </tr>\n",
              "    <tr>\n",
              "      <th>243</th>\n",
              "      <td>R$ 203.000</td>\n",
              "      <td>SPORT</td>\n",
              "      <td>USADO</td>\n",
              "      <td>Motor 2.0 16v</td>\n",
              "      <td>Ano 2001 - 102.776 km</td>\n",
              "      <td>Belo Horizonte - MG</td>\n",
              "      <td>[[► Sensor crepuscular], [► Sensor de chuva], ...</td>\n",
              "      <td>https://caelum-online-public.s3.amazonaws.com/...</td>\n",
              "      <td>NaN</td>\n",
              "    </tr>\n",
              "    <tr>\n",
              "      <th>244</th>\n",
              "      <td>R$ 474.000</td>\n",
              "      <td>IMPERIAL</td>\n",
              "      <td>USADO</td>\n",
              "      <td>Motor 1.8 16v</td>\n",
              "      <td>Ano 2011 - 101.787 km</td>\n",
              "      <td>Belo Horizonte - MG</td>\n",
              "      <td>[[► Painel digital], [► Travas elétricas], [► ...</td>\n",
              "      <td>https://caelum-online-public.s3.amazonaws.com/...</td>\n",
              "      <td>OPORTUNIDADE</td>\n",
              "    </tr>\n",
              "    <tr>\n",
              "      <th>245</th>\n",
              "      <td>R$ 366.000</td>\n",
              "      <td>KIA SPORTS CAR</td>\n",
              "      <td>USADO</td>\n",
              "      <td>Motor 3.0 32v</td>\n",
              "      <td>Ano 2001 - 88.564 km</td>\n",
              "      <td>Belo Horizonte - MG</td>\n",
              "      <td>[[► Sensor crepuscular], [► Bancos de couro], ...</td>\n",
              "      <td>https://caelum-online-public.s3.amazonaws.com/...</td>\n",
              "      <td>NaN</td>\n",
              "    </tr>\n",
              "  </tbody>\n",
              "</table>\n",
              "<p>246 rows × 9 columns</p>\n",
              "</div>"
            ],
            "text/plain": [
              "          value  ...   opportunity\n",
              "0    R$ 338.000  ...           NaN\n",
              "1    R$ 346.000  ...           NaN\n",
              "2    R$ 480.000  ...           NaN\n",
              "3    R$ 133.000  ...           NaN\n",
              "4    R$ 175.000  ...           NaN\n",
              "..          ...  ...           ...\n",
              "241  R$ 489.000  ...           NaN\n",
              "242  R$ 427.000  ...           NaN\n",
              "243  R$ 203.000  ...           NaN\n",
              "244  R$ 474.000  ...  OPORTUNIDADE\n",
              "245  R$ 366.000  ...           NaN\n",
              "\n",
              "[246 rows x 9 columns]"
            ]
          },
          "metadata": {},
          "execution_count": 67
        }
      ]
    }
  ]
}